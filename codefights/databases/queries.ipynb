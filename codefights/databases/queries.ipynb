{
 "cells": [
  {
   "cell_type": "markdown",
   "metadata": {},
   "source": [
    "# Group by\n",
    "movieDirector"
   ]
  },
  {
   "cell_type": "markdown",
   "metadata": {},
   "source": [
    "```mysql\n",
    "select distinct director \n",
    "from moviesInfo \n",
    "where year > 2000\n",
    "group by director\n",
    "having sum(oscars) > 2  \n",
    "order by director;\n",
    "```"
   ]
  },
  {
   "cell_type": "markdown",
   "metadata": {},
   "source": [
    "travelDiary\n",
    "```mysql\n",
    "select group_concat(distinct country separator \";\") countries\n",
    "from diary\n",
    "order by country;\n",
    "```"
   ]
  },
  {
   "cell_type": "markdown",
   "metadata": {},
   "source": [
    "soccerPlayer\n",
    "```mysql\n",
    "select group_concat(distinct country separator \";\") countries\n",
    "from diary\n",
    "order by country;\n",
    "```"
   ]
  },
  {
   "cell_type": "markdown",
   "metadata": {},
   "source": [
    "marketReport\n",
    "```mysql\n",
    "# Method 1\n",
    "select coalesce(country,'Total:') country, count(country) competitors\n",
    "from foreignCompetitors\n",
    "group by country\n",
    "with rollup;\n",
    "\n",
    "# Method 2\n",
    "select ifnull(country, \"Total:\") as country, count(competitor) as competitors\n",
    "from foreignCompetitors\n",
    "group by country\n",
    "with rollup;\n",
    "```"
   ]
  },
  {
   "cell_type": "markdown",
   "metadata": {},
   "source": [
    "# Tricks\n",
    "nullIntern\n",
    "```mysql\n",
    "select count(id) number_of_nulls\n",
    "from departments\n",
    "where description is null \n",
    "or trim(description) in ('null', 'nil', '-');  \n",
    "```"
   ]
  },
  {
   "cell_type": "markdown",
   "metadata": {},
   "source": [
    "legscount\n",
    "```mysql\n",
    "SELECT sum(case when type='human' then 2 when type in ('cat','dog') then 4 else 0 end) as summary_legs\n",
    "FROM creatures\n",
    "ORDER BY id;\n",
    "\n",
    "SELECT (SUM(IF(type = 'human', 2, 4))) as summary_legs\n",
    "FROM creatures\n",
    "ORDER BY id;\n",
    "```"
   ]
  },
  {
   "cell_type": "markdown",
   "metadata": {},
   "source": [
    "combinationlock\n",
    "```mysql\n",
    "SELECT\n",
    "CEIL(ROUND(exp(sum(log(CHAR_LENGTH(characters)))),2)) as combinations\n",
    "from discs;\n",
    "\n",
    "SELECT ROUND(EXP(sum(LOG(LENGTH(characters))))) AS combinations FROM discs;\n",
    "```"
   ]
  },
  {
   "cell_type": "markdown",
   "metadata": {},
   "source": [
    "interestClub\n",
    "```mysql\n",
    "SELECT name\n",
    "FROM people_interests\n",
    "WHERE interests & 1 AND interests & 8\n",
    "ORDER BY name\n",
    "```"
   ]
  },
  {
   "cell_type": "markdown",
   "metadata": {},
   "source": [
    "personalHobbies\n",
    "```mysql\n",
    "# Method 1\n",
    "SELECT name FROM people_hobbies\n",
    "WHERE FIND_IN_SET('reading', hobbies) AND FIND_IN_SET('sports', hobbies);\n",
    "\n",
    "# Method 2\n",
    "show columns from people_hobbies;\n",
    "\n",
    "SELECT name\n",
    "FROM people_hobbies\n",
    "where hobbies & 2 and hobbies & 1;\n",
    "```"
   ]
  }
 ],
 "metadata": {
  "kernelspec": {
   "display_name": "Python 3",
   "language": "python",
   "name": "python3"
  },
  "language_info": {
   "codemirror_mode": {
    "name": "ipython",
    "version": 3
   },
   "file_extension": ".py",
   "mimetype": "text/x-python",
   "name": "python",
   "nbconvert_exporter": "python",
   "pygments_lexer": "ipython3",
   "version": "3.6.3"
  }
 },
 "nbformat": 4,
 "nbformat_minor": 2
}
